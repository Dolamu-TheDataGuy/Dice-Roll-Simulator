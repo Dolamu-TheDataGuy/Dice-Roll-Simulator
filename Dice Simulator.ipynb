{
 "cells": [
  {
   "cell_type": "markdown",
   "metadata": {},
   "source": [
    "## Dice Roll Simulator with Python"
   ]
  },
  {
   "cell_type": "markdown",
   "metadata": {},
   "source": [
    "Most of us would be conversant with the Ludo game, where we need to roll a dice to measure our steps. This is a good task for beginners in Python to start with."
   ]
  },
  {
   "cell_type": "markdown",
   "metadata": {},
   "source": [
    "<img src=\"Dice.jpg\" width = \"700\" height =\"500\">"
   ]
  },
  {
   "cell_type": "markdown",
   "metadata": {},
   "source": [
    "To simulate a dice roll with Python, I'll be using the `random` module in python,which can easily be imported into our code as it is preinstalled in our python programming language. After importing we would have access to all the functions included in the module. we'll use the `random.randint()`function, this function returns a random integer based on the start and end value which we would specify in our code."
   ]
  },
  {
   "cell_type": "code",
   "execution_count": 6,
   "metadata": {},
   "outputs": [
    {
     "name": "stdout",
     "output_type": "stream",
     "text": [
      "Rolling the Dices.....\n",
      "The Values are:\n",
      "2\n",
      "1\n"
     ]
    },
    {
     "name": "stdin",
     "output_type": "stream",
     "text": [
      "Roll the Dice Again? y\n"
     ]
    },
    {
     "name": "stdout",
     "output_type": "stream",
     "text": [
      "Rolling the Dices.....\n",
      "The Values are:\n",
      "1\n",
      "1\n"
     ]
    },
    {
     "name": "stdin",
     "output_type": "stream",
     "text": [
      "Roll the Dice Again? Y\n"
     ]
    },
    {
     "name": "stdout",
     "output_type": "stream",
     "text": [
      "Rolling the Dices.....\n",
      "The Values are:\n",
      "3\n",
      "5\n"
     ]
    },
    {
     "name": "stdin",
     "output_type": "stream",
     "text": [
      "Roll the Dice Again? YES\n"
     ]
    },
    {
     "name": "stdout",
     "output_type": "stream",
     "text": [
      "Rolling the Dices.....\n",
      "The Values are:\n",
      "6\n",
      "2\n"
     ]
    },
    {
     "name": "stdin",
     "output_type": "stream",
     "text": [
      "Roll the Dice Again? No\n"
     ]
    }
   ],
   "source": [
    "#importing module for random number generation\n",
    "import random\n",
    "\n",
    "\n",
    "#range of the values of a dice\n",
    "min_val = 1 \n",
    "max_val = 6\n",
    " \n",
    "#to loop the rolling through userinput\n",
    "roll_again = \"yes\"\n",
    "\n",
    "#the loop\n",
    "while roll_again == \"yes\" or roll_again == \"y\" or roll_again == 'Y' or roll_again == 'YES':\n",
    "    print(\"Rolling the Dices.....\")\n",
    "    print(\"The Values are:\")\n",
    "    \n",
    "    #generating and printing 1st random integer from 1 to 6\n",
    "    print(random.randint(min_val,max_val))\n",
    "    \n",
    "    #generating and printing 2nd random integer from 1 to 6\n",
    "    print(random.randint(min_val,max_val))\n",
    "    \n",
    "    #asking user to roll the dice again, Any input other than Yes or y would terminate the code\n",
    "    roll_again = input(\"Roll the Dice Again?\")\n",
    "    \n",
    "    \n",
    "    #Our code is ready!!!!\n",
    "    \n",
    "\n"
   ]
  },
  {
   "cell_type": "markdown",
   "metadata": {},
   "source": [
    "##### CODE DELINEATION"
   ]
  },
  {
   "cell_type": "markdown",
   "metadata": {},
   "source": [
    "- First of all we imported the python random module for our number generation\n",
    "\n",
    "- We set our number boundary for random generation, since a dice has 6 faces, the minimum value is set to 1, and the maximum value is set to 6\n",
    "\n",
    "- Then we assign a while loop, that generates the 2 numbers, if roll_again equals \"yes\",\"y\",\"YES\" or \"Y\", then our numbers are generated. If anyother word is inputted then the programme automatically terminates itself."
   ]
  }
 ],
 "metadata": {
  "kernelspec": {
   "display_name": "Python 3",
   "language": "python",
   "name": "python3"
  },
  "language_info": {
   "codemirror_mode": {
    "name": "ipython",
    "version": 3
   },
   "file_extension": ".py",
   "mimetype": "text/x-python",
   "name": "python",
   "nbconvert_exporter": "python",
   "pygments_lexer": "ipython3",
   "version": "3.8.5"
  }
 },
 "nbformat": 4,
 "nbformat_minor": 4
}
